{
 "cells": [
  {
   "cell_type": "code",
   "execution_count": 16,
   "id": "dfc79811",
   "metadata": {},
   "outputs": [],
   "source": [
    "import pandas as pd\n",
    "\n",
    "#copy path names here \n",
    "dpaintfile_path = '/Users/juliannalamm/Library/CloudStorage/OneDrive-DewpointTherapeutics/dpaint_data/core_experiments/dpaint-010_Bcat-DLD1/data_analysis/dpaint_010_all_features.csv'\n",
    "compound_annotations_path = '/Users/juliannalamm/Library/CloudStorage/OneDrive-DewpointTherapeutics/dpaint_data/core_experiments/dpaint-010_Bcat-DLD1/compound_info/compound_annotations.xlsx'\n",
    "\n",
    "#put new file path and whatever you want the new name of your final file to be in quotations\n",
    "path_where_you_want_to_save = '/Users/juliannalamm/Desktop/'\n",
    "new_file_name = 'new'\n",
    "\n",
    "################### don't touch this ####################\n",
    "dpaintfile = pd.read_csv(dpaintfile_path)\n",
    "compound_annotations = pd.read_excel(compound_annotations_path)\n",
    "merged = dpaintfile.merge(compound_annotations,how='left', left_on='compound_id', right_on='Molecule Name')\n",
    "merged.to_csv(path_where_you_want_to_save + new_file_name + '.csv')\n",
    "#########################################################\n",
    "\n",
    "\n",
    "\n",
    "\n",
    "\n"
   ]
  }
 ],
 "metadata": {
  "kernelspec": {
   "display_name": "Python 3 (ipykernel)",
   "language": "python",
   "name": "python3"
  },
  "language_info": {
   "codemirror_mode": {
    "name": "ipython",
    "version": 3
   },
   "file_extension": ".py",
   "mimetype": "text/x-python",
   "name": "python",
   "nbconvert_exporter": "python",
   "pygments_lexer": "ipython3",
   "version": "3.9.12"
  }
 },
 "nbformat": 4,
 "nbformat_minor": 5
}
